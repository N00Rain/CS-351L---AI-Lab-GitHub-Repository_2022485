{
  "nbformat": 4,
  "nbformat_minor": 0,
  "metadata": {
    "colab": {
      "provenance": []
    },
    "kernelspec": {
      "name": "python3",
      "display_name": "Python 3"
    },
    "language_info": {
      "name": "python"
    }
  },
  "cells": [
    {
      "cell_type": "markdown",
      "source": [
        "AI lab1 Task 1:: Introduction to Python and AI Development Environment\n",
        "\n",
        "Non-AI Version: Player vs Computer"
      ],
      "metadata": {
        "id": "kY_ol3jHreTC"
      }
    },
    {
      "cell_type": "code",
      "execution_count": 1,
      "metadata": {
        "colab": {
          "base_uri": "https://localhost:8080/"
        },
        "id": "GeGWTcxfrZAe",
        "outputId": "56daa26d-38d3-4b75-82e9-552dd1ebf735"
      },
      "outputs": [
        {
          "output_type": "stream",
          "name": "stdout",
          "text": [
            "Welcome to the Number Guessing Game!\n",
            "Guess a number between 1 and 100. You have 10 attempts.\n",
            "Enter your guess: 45\n",
            "Too low!\n",
            "Enter your guess: 56\n",
            "Too low!\n",
            "Enter your guess: 88\n",
            "Too high!\n",
            "Enter your guess: 76\n",
            "Congratulations! You guessed the number in 4 attempts.\n"
          ]
        }
      ],
      "source": [
        "import random\n",
        "\n",
        "def number_guessing_game():\n",
        "    # The computer selects a random number between 1 and 100\n",
        "    number_to_guess = random.randint(1, 100)\n",
        "    attempts = 0\n",
        "    max_attempts = 10  # Player has 10 attempts to guess the number\n",
        "\n",
        "    print(\"Welcome to the Number Guessing Game!\")\n",
        "    print(\"Guess a number between 1 and 100. You have 10 attempts.\")\n",
        "\n",
        "    # Loop for the player to make guesses\n",
        "    while attempts < max_attempts:\n",
        "        guess = int(input(\"Enter your guess: \"))\n",
        "        attempts += 1\n",
        "\n",
        "        if guess < number_to_guess:\n",
        "            print(\"Too low!\")\n",
        "        elif guess > number_to_guess:\n",
        "            print(\"Too high!\")\n",
        "        else:\n",
        "            print(f\"Congratulations! You guessed the number in {attempts} attempts.\")\n",
        "            return\n",
        "\n",
        "    print(f\"Sorry, you've used all your attempts. The number was {number_to_guess}.\")\n",
        "\n",
        "# Run the game\n",
        "number_guessing_game()"
      ]
    },
    {
      "cell_type": "markdown",
      "source": [
        "AI Version with Binary Search: Computer vs Player\n"
      ],
      "metadata": {
        "id": "MLrdBdKzrcC1"
      }
    },
    {
      "cell_type": "code",
      "source": [
        "def ai_number_guessing_game():\n",
        "    # Player selects a number\n",
        "    print(\"Think of a number between 1 and 100, and I (the AI) will try to guess it.\")\n",
        "    low = 1\n",
        "    high = 100\n",
        "    attempts = 0\n",
        "\n",
        "    # Loop until the AI guesses the number correctly\n",
        "    while low <= high:\n",
        "        guess = (low + high) // 2  # AI uses binary search to guess\n",
        "        attempts += 1\n",
        "\n",
        "        print(f\"AI's guess is: {guess}\")\n",
        "        feedback = input(\"Enter 'h' if too high, 'l' if too low, or 'c' if correct: \").lower()\n",
        "\n",
        "        if feedback == 'c':\n",
        "            print(f\"I (AI) guessed the number in {attempts} attempts!\")\n",
        "            return\n",
        "        elif feedback == 'h':\n",
        "            high = guess - 1  # If too high, reduce the upper bound\n",
        "        elif feedback == 'l':\n",
        "            low = guess + 1  # If too low, increase the lower bound\n",
        "\n",
        "    print(\"Something went wrong!\")\n",
        "\n",
        "# Run the AI version\n",
        "ai_number_guessing_game()"
      ],
      "metadata": {
        "colab": {
          "base_uri": "https://localhost:8080/"
        },
        "id": "MTz1mqHlslhj",
        "outputId": "7b9c361c-db91-44b3-c369-3d278c23a947"
      },
      "execution_count": 2,
      "outputs": [
        {
          "output_type": "stream",
          "name": "stdout",
          "text": [
            "Think of a number between 1 and 100, and I (the AI) will try to guess it.\n",
            "AI's guess is: 50\n",
            "Enter 'h' if too high, 'l' if too low, or 'c' if correct: h\n",
            "AI's guess is: 25\n",
            "Enter 'h' if too high, 'l' if too low, or 'c' if correct: l\n",
            "AI's guess is: 37\n",
            "Enter 'h' if too high, 'l' if too low, or 'c' if correct: h\n",
            "AI's guess is: 31\n",
            "Enter 'h' if too high, 'l' if too low, or 'c' if correct: h\n",
            "AI's guess is: 28\n",
            "Enter 'h' if too high, 'l' if too low, or 'c' if correct: l\n",
            "AI's guess is: 29\n",
            "Enter 'h' if too high, 'l' if too low, or 'c' if correct: l\n",
            "AI's guess is: 30\n",
            "Enter 'h' if too high, 'l' if too low, or 'c' if correct: c\n",
            "I (AI) guessed the number in 7 attempts!\n"
          ]
        }
      ]
    },
    {
      "cell_type": "markdown",
      "source": [
        "BFS Version: Implement the Number Guessing Game where the AI uses\n",
        "Breadth-First Search (BFS) to guess the number.\n"
      ],
      "metadata": {
        "id": "r4TvGDTIs8vq"
      }
    },
    {
      "cell_type": "code",
      "source": [
        "from collections import deque\n",
        "\n",
        "def bfs_number_guessing_game():\n",
        "    print(\"Think of a number between 1 and 100, and I (the AI) will try to guess it using BFS.\")\n",
        "    queue = deque(range(1, 101))  # BFS starts from the smallest number\n",
        "    attempts = 0\n",
        "\n",
        "    while queue:\n",
        "        guess = queue.popleft()\n",
        "        attempts += 1\n",
        "\n",
        "        print(f\"AI's guess is: {guess}\")\n",
        "        feedback = input(\"Enter 'h' if too high, 'l' if too low, or 'c' if correct: \").lower()\n",
        "\n",
        "        if feedback == 'c':\n",
        "            print(f\"I (AI) guessed the number in {attempts} attempts using BFS!\")\n",
        "            return\n",
        "        elif feedback == 'h':\n",
        "            queue = deque([n for n in queue if n < guess])\n",
        "        elif feedback == 'l':\n",
        "            queue = deque([n for n in queue if n > guess])\n",
        "\n",
        "    print(\"Something went wrong!\")\n",
        "\n",
        "# Run the BFS version\n",
        "bfs_number_guessing_game()"
      ],
      "metadata": {
        "colab": {
          "base_uri": "https://localhost:8080/"
        },
        "id": "1d2MzGdltGIQ",
        "outputId": "6f454659-069f-47dc-a6d3-e542c6a009de"
      },
      "execution_count": 3,
      "outputs": [
        {
          "output_type": "stream",
          "name": "stdout",
          "text": [
            "Think of a number between 1 and 100, and I (the AI) will try to guess it using BFS.\n",
            "AI's guess is: 1\n",
            "Enter 'h' if too high, 'l' if too low, or 'c' if correct: l\n",
            "AI's guess is: 2\n",
            "Enter 'h' if too high, 'l' if too low, or 'c' if correct: l\n",
            "AI's guess is: 3\n",
            "Enter 'h' if too high, 'l' if too low, or 'c' if correct: l\n",
            "AI's guess is: 4\n",
            "Enter 'h' if too high, 'l' if too low, or 'c' if correct: c\n",
            "I (AI) guessed the number in 4 attempts using BFS!\n"
          ]
        }
      ]
    },
    {
      "cell_type": "markdown",
      "source": [
        "DFS Version: Implement the Number Guessing Game where the AI uses DepthFirst Search (DFS) to guess the number\n"
      ],
      "metadata": {
        "id": "rzZy4SBPtgvV"
      }
    },
    {
      "cell_type": "code",
      "source": [
        "def dfs_number_guessing_game():\n",
        "    print(\"Think of a number between 1 and 100, and I (the AI) will try to guess it using DFS.\")\n",
        "    stack = [50]  # Starting from the middle\n",
        "    low = 1\n",
        "    high = 100\n",
        "    attempts = 0\n",
        "\n",
        "    while stack:\n",
        "        guess = stack.pop()\n",
        "        attempts += 1\n",
        "\n",
        "        print(f\"AI's guess is: {guess}\")\n",
        "        feedback = input(\"Enter 'h' if too high, 'l' if too low, or 'c' if correct: \").lower()\n",
        "\n",
        "        if feedback == 'c':\n",
        "            print(f\"I (AI) guessed the number in {attempts} attempts using DFS!\")\n",
        "            return\n",
        "        elif feedback == 'h':\n",
        "            high = guess - 1\n",
        "            stack.extend(range(high, low - 1, -1))  # Explore the lower half\n",
        "        elif feedback == 'l':\n",
        "            low = guess + 1\n",
        "            stack.extend(range(low, high + 1))  # Explore the upper half\n",
        "\n",
        "    print(\"Something went wrong!\")\n",
        "\n",
        "# Run the DFS version\n",
        "dfs_number_guessing_game()"
      ],
      "metadata": {
        "colab": {
          "base_uri": "https://localhost:8080/"
        },
        "id": "k85s4VmTtmUz",
        "outputId": "7bc825bd-1244-4df5-b6e0-acdc8da10e01"
      },
      "execution_count": 4,
      "outputs": [
        {
          "output_type": "stream",
          "name": "stdout",
          "text": [
            "Think of a number between 1 and 100, and I (the AI) will try to guess it using DFS.\n",
            "AI's guess is: 50\n",
            "Enter 'h' if too high, 'l' if too low, or 'c' if correct: c\n",
            "I (AI) guessed the number in 1 attempts using DFS!\n"
          ]
        }
      ]
    },
    {
      "cell_type": "markdown",
      "source": [
        "Your Own Algorithm:\n"
      ],
      "metadata": {
        "id": "POanDYHptzjs"
      }
    },
    {
      "cell_type": "code",
      "source": [
        "import random\n",
        "import math\n",
        "\n",
        "def simulated_annealing_number_guessing_game():\n",
        "    print(\"Think of a number between 1 and 100, and I (the AI) will try to guess it using Simulated Annealing.\")\n",
        "\n",
        "    current_guess = random.randint(1, 100)\n",
        "    temperature = 100  # Initial temperature\n",
        "    attempts = 0\n",
        "    low = 1\n",
        "    high = 100\n",
        "\n",
        "    while temperature > 1:\n",
        "        attempts += 1\n",
        "        print(f\"AI's guess is: {current_guess}\")\n",
        "        feedback = input(\"Enter 'h' if too high, 'l' if too low, or 'c' if correct: \").lower()\n",
        "\n",
        "        if feedback == 'c':\n",
        "            print(f\"I (AI) guessed the number in {attempts} attempts using Simulated Annealing!\")\n",
        "            return\n",
        "        elif feedback == 'h':\n",
        "            high = current_guess - 1\n",
        "        elif feedback == 'l':\n",
        "            low = current_guess + 1\n",
        "\n",
        "        # Simulated Annealing adjustment\n",
        "        next_guess = random.randint(low, high)\n",
        "        delta = abs(next_guess - current_guess)\n",
        "\n",
        "        if math.exp(-delta / temperature) > random.random():\n",
        "            current_guess = next_guess\n",
        "\n",
        "        temperature -= 1  # Decrease temperature\n",
        "\n",
        "    print(\"I couldn't guess the number within a reasonable temperature range.\")\n",
        "\n",
        "# Run the Simulated Annealing version\n",
        "simulated_annealing_number_guessing_game()"
      ],
      "metadata": {
        "colab": {
          "base_uri": "https://localhost:8080/"
        },
        "id": "U28ctgaFt5Rh",
        "outputId": "e0a9cfbd-a694-4117-9eb0-c01aac38c9a7"
      },
      "execution_count": 5,
      "outputs": [
        {
          "output_type": "stream",
          "name": "stdout",
          "text": [
            "Think of a number between 1 and 100, and I (the AI) will try to guess it using Simulated Annealing.\n",
            "AI's guess is: 84\n",
            "Enter 'h' if too high, 'l' if too low, or 'c' if correct: h\n",
            "AI's guess is: 84\n",
            "Enter 'h' if too high, 'l' if too low, or 'c' if correct: h\n",
            "AI's guess is: 32\n",
            "Enter 'h' if too high, 'l' if too low, or 'c' if correct: l\n",
            "AI's guess is: 76\n",
            "Enter 'h' if too high, 'l' if too low, or 'c' if correct: c\n",
            "I (AI) guessed the number in 4 attempts using Simulated Annealing!\n"
          ]
        }
      ]
    }
  ]
}
