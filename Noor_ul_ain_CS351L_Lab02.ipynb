{
  "cells": [
    {
      "cell_type": "markdown",
      "metadata": {
        "id": "1oJvjTvimUPW"
      },
      "source": [
        "*RESCUE MISSION*"
      ]
    },
    {
      "cell_type": "markdown",
      "metadata": {
        "id": "FAE-UL12lrRo"
      },
      "source": [
        "\n",
        "\n",
        "S represents the starting point (player’s position).\n",
        "\n",
        "R represents the person to be rescued.\n",
        "\n",
        "X represents hazards or obstacles (blocked paths).\n",
        "\n",
        "The player’s goal is to navigate the grid using A* to find the shortest path to the person and \"rescue\" them."
      ]
    },
    {
      "cell_type": "code",
      "execution_count": 1,
      "metadata": {
        "colab": {
          "base_uri": "https://localhost:8080/"
        },
        "id": "5Ro_J-kWlubC",
        "outputId": "a30b4432-af24-48f4-c72a-1e6718e588b0"
      },
      "outputs": [
        {
          "name": "stdout",
          "output_type": "stream",
          "text": [
            "Enter the grid size (e.g., 6 for a 6x6 grid): 4\n",
            "Enter the number of hazards (less than 14): 5\n",
            "\n",
            "Initial Grid:\n",
            "\n",
            "Grid with Path:\n",
            "-----------------\n",
            "| S |   |   |   |\n",
            "-----------------\n",
            "| X | X | R | X |\n",
            "-----------------\n",
            "|   |   |   |   |\n",
            "-----------------\n",
            "|   | X |   |   |\n",
            "-----------------\n",
            "\n",
            "Searching for the person using A* algorithm...\n",
            "\n",
            "\n",
            "Path to the Rescue:\n",
            "\n",
            "Grid with Path:\n",
            "-----------------\n",
            "| S | * | * |   |\n",
            "-----------------\n",
            "| X | X | R | X |\n",
            "-----------------\n",
            "|   |   |   |   |\n",
            "-----------------\n",
            "|   | X |   |   |\n",
            "-----------------\n"
          ]
        }
      ],
      "source": [
        "import heapq  # Importing heapq to implement the priority queue for A* algorithm\n",
        "import random  # Importing random to place the rescue person randomly\n",
        "import math    # Importing math for distance calculations\n",
        "\n",
        "# Function to create a grid and randomly place the person to be rescued\n",
        "def create_grid(size):\n",
        "    grid = [[' ' for _ in range(size)] for _ in range(size)]  # Create an empty grid filled with spaces\n",
        "    grid[0][0] = 'S'  # 'S' marks the starting point at the top-left corner (0,0)\n",
        "\n",
        "    # Place the rescue person ('R') at a random position, ensuring they’re not placed at the start\n",
        "    rescue_x, rescue_y = random.randint(0, size-1), random.randint(0, size-1)\n",
        "    while (rescue_x, rescue_y) == (0, 0):  # Ensure the rescue is not at the start\n",
        "        rescue_x, rescue_y = random.randint(0, size-1), random.randint(0, size-1)\n",
        "\n",
        "    grid[rescue_x][rescue_y] = 'R'  # Place the person 'R'\n",
        "    return grid, (rescue_x, rescue_y)  # Return the grid and person's position\n",
        "\n",
        "# Function to add random hazards (obstacles) to the grid\n",
        "def add_obstacles(grid, num_obstacles):\n",
        "    size = len(grid)\n",
        "    for _ in range(num_obstacles):\n",
        "        obstacle_x, obstacle_y = random.randint(0, size-1), random.randint(0, size-1)\n",
        "        # Ensure obstacles are not placed on the start 'S' or rescue 'R'\n",
        "        while grid[obstacle_x][obstacle_y] in ['S', 'R']:\n",
        "            obstacle_x, obstacle_y = random.randint(0, size-1), random.randint(0, size-1)\n",
        "        grid[obstacle_x][obstacle_y] = 'X'  # Place the obstacle 'X'\n",
        "    return grid\n",
        "\n",
        "# Function to check if a position is valid (within bounds and not blocked by a hazard)\n",
        "def is_valid_position(grid, x, y):\n",
        "    size = len(grid)\n",
        "    return 0 <= x < size and 0 <= y < size and grid[x][y] != 'X'  # Return true if position is valid\n",
        "\n",
        "# Heuristic function: Calculates the straight-line (Euclidean) distance between the current node and the rescue\n",
        "def heuristic(a, b):\n",
        "    return math.sqrt((a[0] - b[0])**2 + (a[1] - b[1])**2)\n",
        "\n",
        "# A* algorithm function to find the shortest path to rescue the person\n",
        "def a_star(grid, start, goal):\n",
        "    size = len(grid)\n",
        "    open_list = []\n",
        "    heapq.heappush(open_list, (0, start))  # Add the start node with priority 0\n",
        "\n",
        "    g_score = {start: 0}  # Cost from start to current node\n",
        "    parent = {start: None}  # To reconstruct the path\n",
        "\n",
        "    directions = [(-1, 0), (1, 0), (0, -1), (0, 1)]  # Possible directions: up, down, left, right\n",
        "\n",
        "    while open_list:\n",
        "        _, current = heapq.heappop(open_list)  # Get the node with the lowest f(n)\n",
        "\n",
        "        if current == goal:\n",
        "            break\n",
        "\n",
        "        for direction in directions:\n",
        "            next_x = current[0] + direction[0]\n",
        "            next_y = current[1] + direction[1]\n",
        "            next_state = (next_x, next_y)\n",
        "\n",
        "            if is_valid_position(grid, next_x, next_y):\n",
        "                tentative_g_score = g_score[current] + 1  # Cost of moving to the next position\n",
        "\n",
        "                if next_state not in g_score or tentative_g_score < g_score[next_state]:\n",
        "                    g_score[next_state] = tentative_g_score\n",
        "                    f_score = tentative_g_score + heuristic(next_state, goal)\n",
        "                    heapq.heappush(open_list, (f_score, next_state))  # Add state to the open list\n",
        "                    parent[next_state] = current  # Set the current state as the parent of the next state\n",
        "\n",
        "    # Reconstruct the path from start to goal (rescue)\n",
        "    path = []\n",
        "    current = goal\n",
        "    while current is not None:\n",
        "        path.append(current)\n",
        "        current = parent[current]\n",
        "    path.reverse()  # Reverse the path to start from the beginning\n",
        "\n",
        "    return path\n",
        "\n",
        "# Function to print the grid with the path marked\n",
        "def print_grid_with_path(grid, path):\n",
        "    grid_with_path = [row.copy() for row in grid]  # Copy the original grid to preserve it\n",
        "    for (x, y) in path:\n",
        "        if grid_with_path[x][y] not in ['S', 'R']:  # Don't overwrite start 'S' and rescue 'R'\n",
        "            grid_with_path[x][y] = '*'  # Mark the path with '*'\n",
        "\n",
        "    # Print the grid with lines to separate cells\n",
        "    print(\"\\nGrid with Path:\")\n",
        "    print('-' * (len(grid_with_path) * 4 + 1))  # Print top border line\n",
        "    for row in grid_with_path:\n",
        "        print('| ' + ' | '.join(row) + ' |')\n",
        "        print('-' * (len(grid_with_path) * 4 + 1))  # Print horizontal line after each row\n",
        "\n",
        "# Main function to play the rescue game\n",
        "def rescue_mission():\n",
        "    size = int(input(\"Enter the grid size (e.g., 6 for a 6x6 grid): \"))\n",
        "    num_obstacles = int(input(f\"Enter the number of hazards (less than {size * size - 2}): \"))  # Make sure hazards are less than available spaces\n",
        "\n",
        "    grid, goal = create_grid(size)\n",
        "    grid = add_obstacles(grid, num_obstacles)\n",
        "\n",
        "    print(\"\\nInitial Grid:\")\n",
        "    print_grid_with_path(grid, [])  # Empty path initially\n",
        "\n",
        "    print(\"\\nSearching for the person using A* algorithm...\\n\")\n",
        "    path = a_star(grid, (0, 0), goal)  # Perform A* search\n",
        "\n",
        "    print(\"\\nPath to the Rescue:\")\n",
        "    print_grid_with_path(grid, path)\n",
        "\n",
        "# Run the rescue mission game\n",
        "rescue_mission()\n"
      ]
    },
    {
      "cell_type": "markdown",
      "metadata": {
        "id": "7VyHsT8nmotq"
      },
      "source": [
        "In the \"Rescue Mission\" game, you play as a rescuer navigating through a grid-like maze to save a person trapped in a random location. The grid is filled with hazards (obstacles) that block your path, and your goal is to find the shortest and safest route to reach the person, using the A* search algorithm.\n",
        "\n",
        "The game begins with the player at the top-left corner of the grid, marked as S (start), and the person to be rescued is randomly placed, marked as R (rescue). Hazards, represented by X, are scattered across the grid, and they block movement. The player must avoid these hazards while finding the optimal path to the rescue.\n",
        "\n",
        "Using the A* algorithm, the game calculates the best path by exploring different routes, avoiding obstacles, and minimizing the distance to the goal. The path is displayed on the grid, showing the rescue mission’s progress.\n",
        "\n",
        "This game teaches the basics of pathfinding algorithms and decision-making under constraints, while adding a fun narrative of rescuing a person from danger."
      ]
    },
    {
      "cell_type": "markdown",
      "metadata": {
        "id": "S6_VSOIal9gL"
      },
      "source": []
    }
  ],
  "metadata": {
    "colab": {
      "provenance": []
    },
    "kernelspec": {
      "display_name": "Python 3",
      "name": "python3"
    },
    "language_info": {
      "name": "python"
    }
  },
  "nbformat": 4,
  "nbformat_minor": 0
}
